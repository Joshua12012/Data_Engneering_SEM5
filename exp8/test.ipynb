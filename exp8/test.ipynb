{
 "cells": [
  {
   "cell_type": "code",
   "execution_count": 1,
   "id": "36241fb3",
   "metadata": {},
   "outputs": [],
   "source": [
    "from pymongo import MongoClient\n",
    "from dotenv import load_dotenv\n",
    "import os\n",
    "load_dotenv()\n",
    "\n",
    "def connect_to_db():\n",
    "    client = MongoClient(os.getenv(\"MONGO_URI\"))\n",
    "    return client[\"hospital_db\"]"
   ]
  },
  {
   "cell_type": "code",
   "execution_count": 3,
   "id": "101c9224",
   "metadata": {},
   "outputs": [
    {
     "data": {
      "text/plain": [
       "Database(MongoClient(host=['localhost:27017'], document_class=dict, tz_aware=False, connect=True), 'hospital_db')"
      ]
     },
     "execution_count": 3,
     "metadata": {},
     "output_type": "execute_result"
    }
   ],
   "source": [
    "connect_to_db()"
   ]
  },
  {
   "cell_type": "code",
   "execution_count": 4,
   "id": "75fc3fa7",
   "metadata": {},
   "outputs": [],
   "source": [
    "db = connect_to_db()\n",
    "doctors = db['doctors']"
   ]
  },
  {
   "cell_type": "code",
   "execution_count": 5,
   "id": "4f2f3094",
   "metadata": {},
   "outputs": [],
   "source": [
    "def add_doctor(name, specialization, phone, email):\n",
    "    doctor = {\n",
    "        \"name\":name,\n",
    "        \"specialization\":specialization,\n",
    "        \"phone\":phone,\n",
    "        \"email\":email\n",
    "    }\n",
    "    result = doctors.insert_one(doctor)\n",
    "    print(f\"Doctor add with ID: {result.inserted_id}\")"
   ]
  },
  {
   "cell_type": "code",
   "execution_count": 6,
   "id": "02cb3641",
   "metadata": {},
   "outputs": [
    {
     "name": "stdout",
     "output_type": "stream",
     "text": [
      "Doctor add with ID: 69036425edce81e71f4306c6\n"
     ]
    }
   ],
   "source": [
    "add_doctor(\"DR. 1\",\"heart\",9023232134,\"dr1@gmail.com\")"
   ]
  },
  {
   "cell_type": "code",
   "execution_count": 7,
   "id": "31b13431",
   "metadata": {},
   "outputs": [],
   "source": [
    "def list_doctors():\n",
    "    for doc in doctors.find():\n",
    "        print(f\"{doc['name']} | {doc['specialization']} | {doc['phone']} | {doc['email']}\")"
   ]
  },
  {
   "cell_type": "code",
   "execution_count": 8,
   "id": "107afd07",
   "metadata": {},
   "outputs": [
    {
     "name": "stdout",
     "output_type": "stream",
     "text": [
      "DR. 1 | heart | 9023232134 | dr1@gmail.com\n"
     ]
    }
   ],
   "source": [
    "list_doctors()"
   ]
  },
  {
   "cell_type": "code",
   "execution_count": 9,
   "id": "7f59eb71",
   "metadata": {},
   "outputs": [],
   "source": [
    "def delete_doctor(name):\n",
    "    result = doctors.delete_one({\"name\":name})\n",
    "    print(\"Doctor deleted\")"
   ]
  },
  {
   "cell_type": "code",
   "execution_count": 10,
   "id": "57b5e032",
   "metadata": {},
   "outputs": [
    {
     "name": "stdout",
     "output_type": "stream",
     "text": [
      "Doctor deleted\n"
     ]
    }
   ],
   "source": [
    "delete_doctor(\"DR. 1\")"
   ]
  },
  {
   "cell_type": "code",
   "execution_count": null,
   "id": "17ff8298",
   "metadata": {},
   "outputs": [],
   "source": []
  }
 ],
 "metadata": {
  "kernelspec": {
   "display_name": ".menv",
   "language": "python",
   "name": "python3"
  },
  "language_info": {
   "codemirror_mode": {
    "name": "ipython",
    "version": 3
   },
   "file_extension": ".py",
   "mimetype": "text/x-python",
   "name": "python",
   "nbconvert_exporter": "python",
   "pygments_lexer": "ipython3",
   "version": "3.13.1"
  }
 },
 "nbformat": 4,
 "nbformat_minor": 5
}
