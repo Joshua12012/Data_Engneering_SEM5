{
 "cells": [
  {
   "cell_type": "code",
   "execution_count": 6,
   "id": "15561d57",
   "metadata": {},
   "outputs": [
    {
     "data": {
      "text/plain": [
       "True"
      ]
     },
     "execution_count": 6,
     "metadata": {},
     "output_type": "execute_result"
    }
   ],
   "source": [
    "import psycopg2, os\n",
    "from dotenv import load_dotenv\n",
    "load_dotenv()"
   ]
  },
  {
   "cell_type": "code",
   "execution_count": 7,
   "id": "721cb4fa",
   "metadata": {},
   "outputs": [
    {
     "data": {
      "text/plain": [
       "<connection object at 0x000001F589551F10; dsn: 'user=postgres password=xxx dbname=employees host=localhost', closed: 0>"
      ]
     },
     "execution_count": 7,
     "metadata": {},
     "output_type": "execute_result"
    }
   ],
   "source": [
    "def connect():\n",
    "    return psycopg2.connect(\n",
    "        host = \"localhost\",\n",
    "        database = \"employees\",\n",
    "        user = \"postgres\",\n",
    "        password = os.getenv(\"POSTGRES_PASSWORD\")\n",
    "    )\n",
    "connect()"
   ]
  },
  {
   "cell_type": "code",
   "execution_count": 3,
   "id": "a01a0665",
   "metadata": {},
   "outputs": [
    {
     "data": {
      "text/plain": [
       "[]"
      ]
     },
     "execution_count": 3,
     "metadata": {},
     "output_type": "execute_result"
    }
   ],
   "source": [
    "def get_all_employees():\n",
    "    conn = connect()\n",
    "    cur = conn.cursor()\n",
    "    cur.execute(\"\"\"\n",
    "                SELECT e.id, e.name, d.name, r.id, e.email\n",
    "                FROM employees as e\n",
    "                JOIN departments d ON e.department_id = d.id\n",
    "                JOIN roles r ON e.roles_id = r.id\n",
    "                \"\"\")\n",
    "    rows = cur.fetchall()\n",
    "    conn.close()\n",
    "    return rows\n",
    "\n",
    "get_all_employees()"
   ]
  },
  {
   "cell_type": "code",
   "execution_count": 26,
   "id": "081aa753",
   "metadata": {},
   "outputs": [],
   "source": [
    "def add_employee(emp_id, name, dept_id, role_id, email):\n",
    "    conn = connect()\n",
    "    cur = conn.cursor()\n",
    "    cur.execute(\"\"\"\n",
    "                INSERT INTO employees VALUES(%s,%s,%s,%s,%s)\n",
    "                \"\"\",(emp_id, name, dept_id, role_id, email))\n",
    "    conn.commit()\n",
    "    conn.close()\n",
    "add_employee(1,\"User1\",1,1,\"user@gmail.com\")"
   ]
  },
  {
   "cell_type": "code",
   "execution_count": 5,
   "id": "46bfbd35",
   "metadata": {},
   "outputs": [],
   "source": [
    "def delete_employee(emp_id):\n",
    "    conn = connect()\n",
    "    cur = conn.cursor()\n",
    "    cur.execute(\"\"\"\n",
    "                DELETE FROM employees WHERE id = %s\n",
    "                \"\"\",(emp_id))\n",
    "    conn.commit()\n",
    "    conn.close()"
   ]
  },
  {
   "cell_type": "code",
   "execution_count": 25,
   "id": "8e641004",
   "metadata": {},
   "outputs": [],
   "source": [
    "def add_roles(role_id,role_name):\n",
    "    conn = connect()\n",
    "    cur = conn.cursor()\n",
    "    cur.execute(\"\"\"\n",
    "                INSERT INTO roles VALUES (%s,%s)\n",
    "                \"\"\",(role_id,role_name))\n",
    "    conn.commit()\n",
    "    conn.close()\n",
    "add_roles(1,'junior clerk')"
   ]
  },
  {
   "cell_type": "code",
   "execution_count": 17,
   "id": "201d2b3d",
   "metadata": {},
   "outputs": [],
   "source": [
    "def add_dept(dept_id,dept_name):\n",
    "    conn = connect()\n",
    "    cur = conn.cursor()\n",
    "    cur.execute(\"\"\"\n",
    "                INSERT INTO departments VALUES (%s,%s)\n",
    "                \"\"\",(dept_id,dept_name))\n",
    "    conn.commit()\n",
    "    conn.close()\n",
    "add_dept(1,\"HR\")\n",
    "add_dept(2,\"IT\")"
   ]
  },
  {
   "cell_type": "code",
   "execution_count": null,
   "id": "2d499da7",
   "metadata": {},
   "outputs": [],
   "source": []
  }
 ],
 "metadata": {
  "kernelspec": {
   "display_name": ".menv",
   "language": "python",
   "name": "python3"
  },
  "language_info": {
   "codemirror_mode": {
    "name": "ipython",
    "version": 3
   },
   "file_extension": ".py",
   "mimetype": "text/x-python",
   "name": "python",
   "nbconvert_exporter": "python",
   "pygments_lexer": "ipython3",
   "version": "3.13.1"
  }
 },
 "nbformat": 4,
 "nbformat_minor": 5
}
