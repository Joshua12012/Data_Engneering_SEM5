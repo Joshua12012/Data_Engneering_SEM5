{
 "cells": [
  {
   "cell_type": "code",
   "execution_count": 2,
   "id": "748bee66",
   "metadata": {},
   "outputs": [
    {
     "name": "stdout",
     "output_type": "stream",
     "text": [
      "{'coord': {'lon': 77.2167, 'lat': 28.6667}, 'weather': [{'id': 800, 'main': 'Clear', 'description': 'clear sky', 'icon': '01d'}], 'base': 'stations', 'main': {'temp': 35.05, 'feels_like': 37.62, 'temp_min': 35.05, 'temp_max': 35.05, 'pressure': 1002, 'humidity': 41, 'sea_level': 1002, 'grnd_level': 977}, 'visibility': 8000, 'wind': {'speed': 4.63, 'deg': 310}, 'clouds': {'all': 0}, 'dt': 1758795698, 'sys': {'type': 1, 'id': 9165, 'country': 'IN', 'sunrise': 1758760854, 'sunset': 1758804289}, 'timezone': 19800, 'id': 1273294, 'name': 'Delhi', 'cod': 200}\n"
     ]
    }
   ],
   "source": [
    "import requests\n",
    "import os\n",
    "import sqlite3\n",
    "from dotenv import load_dotenv\n",
    "load_dotenv()\n",
    "api_key = os.getenv(\"WEATHER_API_KEY\")\n",
    "\n",
    "city = \"Delhi\"\n",
    "url=f\"http://api.openweathermap.org/data/2.5/weather?q={city}&appid={api_key}&units=metric\"\n",
    "\n",
    "response = requests.get(url)\n",
    "data = response.json()\n",
    "\n",
    "print(data)  # you will get full weather info with coordinates included\n"
   ]
  },
  {
   "cell_type": "code",
   "execution_count": 2,
   "id": "8474bc1a",
   "metadata": {},
   "outputs": [
    {
     "name": "stderr",
     "output_type": "stream",
     "text": [
      "C:\\Users\\Wayne\\AppData\\Local\\Temp\\ipykernel_23892\\2503314031.py:5: DeprecationWarning: datetime.datetime.utcfromtimestamp() is deprecated and scheduled for removal in a future version. Use timezone-aware objects to represent datetimes in UTC: datetime.datetime.fromtimestamp(timestamp, datetime.UTC).\n",
      "  weather_date = datetime.datetime.utcfromtimestamp(data[\"dt\"]).strftime(\"%Y-%m-%d\")\n"
     ]
    }
   ],
   "source": [
    "# extract the relevant information\n",
    "import datetime\n",
    "temperature = data[\"main\"][\"temp\"]\n",
    "condition = data[\"weather\"][0][\"description\"]\n",
    "weather_date = datetime.datetime.utcfromtimestamp(data[\"dt\"]).strftime(\"%Y-%m-%d\")"
   ]
  },
  {
   "cell_type": "code",
   "execution_count": 4,
   "id": "b8647528",
   "metadata": {},
   "outputs": [],
   "source": [
    "conn = sqlite3.connect(\"sales_weather.db\")\n",
    "cursor = conn.cursor()"
   ]
  },
  {
   "cell_type": "code",
   "execution_count": null,
   "id": "5341504c",
   "metadata": {},
   "outputs": [],
   "source": [
    "\n",
    "# create weather table\n",
    "cursor.execute(\"\"\"\n",
    "CREATE TABLE IF NOT EXISTS weather (\n",
    "    id INTEGER PRIMARY KEY AUTOINCREMENT,\n",
    "    date TEXT,\n",
    "    location TEXT,\n",
    "    temperature REAL,\n",
    "    condition TEXT\n",
    ")\n",
    "\"\"\")\n",
    "conn.commit()\n",
    "conn.close()"
   ]
  },
  {
   "cell_type": "code",
   "execution_count": 5,
   "id": "64e63b77",
   "metadata": {},
   "outputs": [],
   "source": [
    "# Insert into your table\n",
    "cursor.execute(\"\"\"\n",
    "INSERT INTO weather (date, location, temperature, condition)\n",
    "VALUES (?, ?, ?, ?)\n",
    "\"\"\", (weather_date, city, temperature, condition))\n",
    "\n",
    "conn.commit()"
   ]
  },
  {
   "cell_type": "code",
   "execution_count": null,
   "id": "77b061b2",
   "metadata": {},
   "outputs": [],
   "source": []
  },
  {
   "cell_type": "code",
   "execution_count": null,
   "id": "8e119d50",
   "metadata": {},
   "outputs": [],
   "source": []
  }
 ],
 "metadata": {
  "kernelspec": {
   "display_name": ".menv",
   "language": "python",
   "name": "python3"
  },
  "language_info": {
   "codemirror_mode": {
    "name": "ipython",
    "version": 3
   },
   "file_extension": ".py",
   "mimetype": "text/x-python",
   "name": "python",
   "nbconvert_exporter": "python",
   "pygments_lexer": "ipython3",
   "version": "3.13.1"
  }
 },
 "nbformat": 4,
 "nbformat_minor": 5
}
