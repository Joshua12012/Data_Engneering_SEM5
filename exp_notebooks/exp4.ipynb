{
 "cells": [
  {
   "cell_type": "code",
   "execution_count": 49,
   "id": "d189c026",
   "metadata": {},
   "outputs": [
    {
     "data": {
      "text/plain": [
       "True"
      ]
     },
     "execution_count": 49,
     "metadata": {},
     "output_type": "execute_result"
    }
   ],
   "source": [
    "import pandas as pd\n",
    "import requests\n",
    "import os\n",
    "import json\n",
    "from dotenv import load_dotenv\n",
    "load_dotenv()"
   ]
  },
  {
   "cell_type": "code",
   "execution_count": 50,
   "id": "0a425431",
   "metadata": {},
   "outputs": [],
   "source": [
    "city=\"Delhi\"\n",
    "api_key = os.getenv(\"WEATHER_API_KEY\")\n",
    "url = f\"http://api.openweathermap.org/data/2.5/weather?q={city}&appid={api_key}&units=metric\"\n",
    "response = requests.get(url)"
   ]
  },
  {
   "cell_type": "code",
   "execution_count": 51,
   "id": "3328ea00",
   "metadata": {},
   "outputs": [
    {
     "name": "stdout",
     "output_type": "stream",
     "text": [
      "{'coord': {'lon': 77.2167, 'lat': 28.6667}, 'weather': [{'id': 800, 'main': 'Clear', 'description': 'clear sky', 'icon': '01d'}], 'base': 'stations', 'main': {'temp': 33.05, 'feels_like': 35.29, 'temp_min': 33.05, 'temp_max': 33.05, 'pressure': 1002, 'humidity': 46, 'sea_level': 1002, 'grnd_level': 977}, 'visibility': 7000, 'wind': {'speed': 3.09, 'deg': 300}, 'clouds': {'all': 2}, 'dt': 1758802674, 'sys': {'type': 1, 'id': 9165, 'country': 'IN', 'sunrise': 1758760854, 'sunset': 1758804289}, 'timezone': 19800, 'id': 1273294, 'name': 'Delhi', 'cod': 200}\n"
     ]
    }
   ],
   "source": [
    "data = response.json()\n",
    "print(data)"
   ]
  },
  {
   "cell_type": "code",
   "execution_count": 52,
   "id": "a257d6d8",
   "metadata": {},
   "outputs": [],
   "source": [
    "with open(\"weather_data.json\",'w') as file:\n",
    "    json.dump(data,file,indent=4)"
   ]
  },
  {
   "cell_type": "code",
   "execution_count": 53,
   "id": "dd5f3aae",
   "metadata": {},
   "outputs": [],
   "source": [
    "weather_params = ['temp','pressure','humidity','sea_level']"
   ]
  },
  {
   "cell_type": "code",
   "execution_count": 54,
   "id": "f926b2b6",
   "metadata": {},
   "outputs": [
    {
     "name": "stdout",
     "output_type": "stream",
     "text": [
      "temp: 33.05\n",
      "pressure: 1002\n",
      "humidity: 46\n",
      "sea_level: 1002\n"
     ]
    }
   ],
   "source": [
    "for i in weather_params:\n",
    "    print(f\"{i}: {data['main'][f'{i}']}\")"
   ]
  },
  {
   "cell_type": "markdown",
   "id": "ca9baba5",
   "metadata": {},
   "source": [
    "#### Inserting data into postgressql"
   ]
  },
  {
   "cell_type": "code",
   "execution_count": null,
   "id": "719cac46",
   "metadata": {},
   "outputs": [],
   "source": [
    "import psycopg2\n",
    "from psycopg2 import sql\n",
    "import dotenv\n",
    "from dotenv import load_dotenv\n",
    "load_dotenv()\n",
    "\n",
    "#connect to posgresql\n",
    "conn = psycopg2.connect(\n",
    "    host=f\"{os.getenv(\"HOST\")}\",\n",
    "    database=\"weather_reatail_db\",\n",
    "    user=f\"{os.getenv(\"POSTGRES_USER\")}\",\n",
    "    password=f\"{os.getenv(\"POSTGRES_PASSWORD\")}\"\n",
    ")\n",
    "\n",
    "cursor = conn.cursor()"
   ]
  },
  {
   "cell_type": "code",
   "execution_count": 63,
   "id": "ac0bc561",
   "metadata": {},
   "outputs": [],
   "source": [
    "cursor.execute(\n",
    "    \"\"\"CREATE TABLE new_weather(\n",
    "        id SERIAL PRIMARY KEY,\n",
    "        country CHAR(2),\n",
    "        city VARCHAR(20),\n",
    "        weather_main VARCHAR(50),\n",
    "        weather_description VARCHAR(100),\n",
    "        temp REAL,\n",
    "        temp_min REAL,\n",
    "        temp_max REAL,\n",
    "        pressure REAL,\n",
    "        humidity REAL,\n",
    "        visibility INT,\n",
    "        wind_speed REAL,\n",
    "        clouds INT,\n",
    "        inserted_at TIMESTAMP DEFAULT CURRENT_TIMESTAMP\n",
    "    )\n",
    "    \"\"\"\n",
    ")"
   ]
  },
  {
   "cell_type": "code",
   "execution_count": 62,
   "id": "53ccd4c1",
   "metadata": {},
   "outputs": [],
   "source": [
    "conn.rollback()   # reset the transaction"
   ]
  },
  {
   "cell_type": "code",
   "execution_count": 64,
   "id": "6c304ffe",
   "metadata": {},
   "outputs": [],
   "source": [
    "conn.commit()"
   ]
  },
  {
   "cell_type": "code",
   "execution_count": 65,
   "id": "95d0dcc9",
   "metadata": {},
   "outputs": [],
   "source": [
    "weather_tuple = (\n",
    "    data['sys']['country'],\n",
    "    data['name'],\n",
    "    data['weather'][0]['main'],\n",
    "    data['weather'][0]['description'],\n",
    "    data['main']['temp'],\n",
    "    data['main']['temp_min'],\n",
    "    data['main']['temp_max'],\n",
    "    data['main']['pressure'],\n",
    "    data['main']['humidity'],\n",
    "    data['visibility'],\n",
    "    data['wind']['speed'],\n",
    "    data['clouds']['all'],\n",
    ")"
   ]
  },
  {
   "cell_type": "code",
   "execution_count": 66,
   "id": "58ac277e",
   "metadata": {},
   "outputs": [],
   "source": [
    "cursor.execute(\n",
    "    \"\"\"\n",
    "    INSERT INTO new_weather\n",
    "    (country, city, weather_main, weather_description, temp, temp_min, temp_max, pressure, humidity, visibility, wind_speed, clouds)\n",
    "    VALUES(%s,%s,%s,%s,%s,%s,%s,%s,%s,%s,%s,%s)\n",
    "    \"\"\",weather_tuple\n",
    ")"
   ]
  },
  {
   "cell_type": "code",
   "execution_count": 67,
   "id": "84351f6a",
   "metadata": {},
   "outputs": [],
   "source": [
    "conn.commit()"
   ]
  },
  {
   "cell_type": "code",
   "execution_count": null,
   "id": "2aa59736",
   "metadata": {},
   "outputs": [],
   "source": []
  }
 ],
 "metadata": {
  "kernelspec": {
   "display_name": ".menv",
   "language": "python",
   "name": "python3"
  },
  "language_info": {
   "codemirror_mode": {
    "name": "ipython",
    "version": 3
   },
   "file_extension": ".py",
   "mimetype": "text/x-python",
   "name": "python",
   "nbconvert_exporter": "python",
   "pygments_lexer": "ipython3",
   "version": "3.13.1"
  }
 },
 "nbformat": 4,
 "nbformat_minor": 5
}
