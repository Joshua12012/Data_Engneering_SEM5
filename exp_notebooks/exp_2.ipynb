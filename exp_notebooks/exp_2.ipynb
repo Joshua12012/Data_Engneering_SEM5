{
 "cells": [
  {
   "cell_type": "code",
   "execution_count": 1,
   "id": "bbc0e8f3",
   "metadata": {},
   "outputs": [],
   "source": [
    "import sqlite3"
   ]
  },
  {
   "cell_type": "code",
   "execution_count": 2,
   "id": "e452007f",
   "metadata": {},
   "outputs": [],
   "source": [
    "conn = sqlite3.connect(\"sales_weather.db\")\n",
    "cursor = conn.cursor()"
   ]
  },
  {
   "cell_type": "code",
   "execution_count": 3,
   "id": "fec0aee1",
   "metadata": {},
   "outputs": [
    {
     "data": {
      "text/plain": [
       "<sqlite3.Cursor at 0x1c09e602640>"
      ]
     },
     "execution_count": 3,
     "metadata": {},
     "output_type": "execute_result"
    }
   ],
   "source": [
    "# Customers table\n",
    "cursor.execute(\"\"\"\n",
    "CREATE TABLE IF NOT EXISTS customers (\n",
    "    id INTEGER PRIMARY KEY AUTOINCREMENT,\n",
    "    name TEXT,\n",
    "    email TEXT,\n",
    "    phone TEXT,\n",
    "    created_at TEXT\n",
    ")\n",
    "\"\"\")\n"
   ]
  },
  {
   "cell_type": "code",
   "execution_count": 4,
   "id": "ff3f7701",
   "metadata": {},
   "outputs": [
    {
     "data": {
      "text/plain": [
       "<sqlite3.Cursor at 0x1c09e602640>"
      ]
     },
     "execution_count": 4,
     "metadata": {},
     "output_type": "execute_result"
    }
   ],
   "source": [
    "# Payment Methods table\n",
    "cursor.execute(\"\"\"\n",
    "CREATE TABLE IF NOT EXISTS payment_methods (\n",
    "    id INTEGER PRIMARY KEY AUTOINCREMENT,\n",
    "    method_name TEXT,\n",
    "    active BOOLEAN\n",
    ")\n",
    "\"\"\")"
   ]
  },
  {
   "cell_type": "code",
   "execution_count": 5,
   "id": "eba1f1ca",
   "metadata": {},
   "outputs": [
    {
     "data": {
      "text/plain": [
       "<sqlite3.Cursor at 0x1c09e602640>"
      ]
     },
     "execution_count": 5,
     "metadata": {},
     "output_type": "execute_result"
    }
   ],
   "source": [
    "\n",
    "# Sales Channels table\n",
    "cursor.execute(\"\"\"\n",
    "CREATE TABLE IF NOT EXISTS sales_channels (\n",
    "    id INTEGER PRIMARY KEY AUTOINCREMENT,\n",
    "    channel_name TEXT,\n",
    "    active BOOLEAN\n",
    ")\n",
    "\"\"\")"
   ]
  },
  {
   "cell_type": "code",
   "execution_count": 6,
   "id": "b50ace52",
   "metadata": {},
   "outputs": [
    {
     "data": {
      "text/plain": [
       "<sqlite3.Cursor at 0x1c09e602640>"
      ]
     },
     "execution_count": 6,
     "metadata": {},
     "output_type": "execute_result"
    }
   ],
   "source": [
    "# Products table\n",
    "cursor.execute(\"\"\"\n",
    "CREATE TABLE IF NOT EXISTS products (\n",
    "    id INTEGER PRIMARY KEY AUTOINCREMENT,\n",
    "    name TEXT,\n",
    "    sku TEXT,\n",
    "    category TEXT,\n",
    "    base_price REAL,\n",
    "    active BOOLEAN\n",
    ")\n",
    "\"\"\")"
   ]
  },
  {
   "cell_type": "code",
   "execution_count": 7,
   "id": "322d6098",
   "metadata": {},
   "outputs": [],
   "source": [
    "# Sales table\n",
    "cursor.execute(\"\"\"\n",
    "CREATE TABLE IF NOT EXISTS sales (\n",
    "    id INTEGER PRIMARY KEY AUTOINCREMENT,\n",
    "    customer_id INTEGER,\n",
    "    sale_date TEXT,\n",
    "    payment_method_id INTEGER,\n",
    "    total_amount REAL,\n",
    "    sales_channel_id INTEGER,\n",
    "    FOREIGN KEY(customer_id) REFERENCES customers(id),\n",
    "    FOREIGN KEY(payment_method_id) REFERENCES payment_methods(id),\n",
    "    FOREIGN KEY(sales_channel_id) REFERENCES sales_channels(id)\n",
    ")\n",
    "\"\"\")\n",
    "conn.commit()\n"
   ]
  },
  {
   "cell_type": "code",
   "execution_count": 8,
   "id": "5a4e118c",
   "metadata": {},
   "outputs": [
    {
     "data": {
      "text/plain": [
       "<sqlite3.Cursor at 0x1c09e602640>"
      ]
     },
     "execution_count": 8,
     "metadata": {},
     "output_type": "execute_result"
    }
   ],
   "source": [
    "# Sale Line Items table\n",
    "cursor.execute(\"\"\"\n",
    "CREATE TABLE IF NOT EXISTS sale_line_items (\n",
    "    id INTEGER PRIMARY KEY AUTOINCREMENT,\n",
    "    sale_id INTEGER,\n",
    "    product_id INTEGER,\n",
    "    quantity INTEGER,\n",
    "    unit_price REAL,\n",
    "    line_total REAL,\n",
    "    FOREIGN KEY(sale_id) REFERENCES sales(id),\n",
    "    FOREIGN KEY(product_id) REFERENCES products(id)\n",
    ")\n",
    "\"\"\")"
   ]
  },
  {
   "cell_type": "code",
   "execution_count": 9,
   "id": "746bf474",
   "metadata": {},
   "outputs": [],
   "source": [
    "conn.commit()"
   ]
  },
  {
   "cell_type": "code",
   "execution_count": 10,
   "id": "f411e9a7",
   "metadata": {},
   "outputs": [],
   "source": [
    "# Customers\n",
    "customers = [\n",
    "    (\"Alice Johnson\", \"alice@example.com\", \"1234567890\", \"2025-09-01\"),\n",
    "    (\"Bob Smith\", \"bob@example.com\", \"9876543210\", \"2025-09-02\"),\n",
    "]\n",
    "cursor.executemany(\"\"\"\n",
    "INSERT INTO customers (name, email, phone, created_at) \n",
    "VALUES (?, ?, ?, ?)\n",
    "\"\"\", customers)\n",
    "\n",
    "# Payment Methods\n",
    "payment_methods = [\n",
    "    (\"Credit Card\", 1),\n",
    "    (\"Cash\", 1),\n",
    "    (\"UPI\", 1)\n",
    "]\n",
    "cursor.executemany(\"\"\"\n",
    "INSERT INTO payment_methods (method_name, active) \n",
    "VALUES (?, ?)\n",
    "\"\"\", payment_methods)\n",
    "\n",
    "# Sales Channels\n",
    "channels = [\n",
    "    (\"Online Store\", 1),\n",
    "    (\"Retail Shop\", 1)\n",
    "]\n",
    "cursor.executemany(\"\"\"\n",
    "INSERT INTO sales_channels (channel_name, active) \n",
    "VALUES (?, ?)\n",
    "\"\"\", channels)\n",
    "\n",
    "# Products\n",
    "products = [\n",
    "    (\"Ice Cream\", \"SKU001\", \"Food\", 50.0, 1),\n",
    "    (\"Umbrella\", \"SKU002\", \"Accessories\", 200.0, 1),\n",
    "    (\"Cold Drink\", \"SKU003\", \"Beverages\", 40.0, 1),\n",
    "    (\"Raincoat\", \"SKU004\", \"Clothing\", 500.0, 1),\n",
    "]\n",
    "cursor.executemany(\"\"\"\n",
    "INSERT INTO products (name, sku, category, base_price, active) \n",
    "VALUES (?, ?, ?, ?, ?)\n",
    "\"\"\", products)\n",
    "\n",
    "# Sales\n",
    "sales = [\n",
    "    (1, \"2025-09-01\", 1, 270.0, 1),  # Alice bought Ice Cream + Umbrella\n",
    "    (2, \"2025-09-02\", 2, 80.0, 2),   # Bob bought 2 Cold Drinks\n",
    "    (1, \"2025-09-03\", 3, 650.0, 1),  # Alice bought Raincoat + Ice Cream\n",
    "]\n",
    "cursor.executemany(\"\"\"\n",
    "INSERT INTO sales (customer_id, sale_date, payment_method_id, total_amount, sales_channel_id) \n",
    "VALUES (?, ?, ?, ?, ?)\n",
    "\"\"\", sales)\n",
    "\n",
    "# Sale Line Items\n",
    "sale_items = [\n",
    "    (1, 1, 2, 50.0, 100.0),  # Ice Cream x2\n",
    "    (1, 2, 1, 200.0, 200.0), # Umbrella x1\n",
    "    (2, 3, 2, 40.0, 80.0),   # Cold Drink x2\n",
    "    (3, 4, 1, 500.0, 500.0), # Raincoat x1\n",
    "    (3, 1, 3, 50.0, 150.0),  # Ice Cream x3\n",
    "]\n",
    "cursor.executemany(\"\"\"\n",
    "INSERT INTO sale_line_items (sale_id, product_id, quantity, unit_price, line_total) \n",
    "VALUES (?, ?, ?, ?, ?)\n",
    "\"\"\", sale_items)\n",
    "\n",
    "conn.commit()\n"
   ]
  },
  {
   "cell_type": "code",
   "execution_count": null,
   "id": "c765156e",
   "metadata": {},
   "outputs": [],
   "source": []
  },
  {
   "cell_type": "code",
   "execution_count": null,
   "id": "cda89d31",
   "metadata": {},
   "outputs": [],
   "source": []
  }
 ],
 "metadata": {
  "kernelspec": {
   "display_name": ".menv",
   "language": "python",
   "name": "python3"
  },
  "language_info": {
   "codemirror_mode": {
    "name": "ipython",
    "version": 3
   },
   "file_extension": ".py",
   "mimetype": "text/x-python",
   "name": "python",
   "nbconvert_exporter": "python",
   "pygments_lexer": "ipython3",
   "version": "3.13.1"
  }
 },
 "nbformat": 4,
 "nbformat_minor": 5
}
